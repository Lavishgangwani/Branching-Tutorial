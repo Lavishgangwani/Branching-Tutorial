{
  "nbformat": 4,
  "nbformat_minor": 0,
  "metadata": {
    "colab": {
      "provenance": [],
      "authorship_tag": "ABX9TyM5KvgdP4tdVnKrofE5uAWC",
      "include_colab_link": true
    },
    "kernelspec": {
      "name": "python3",
      "display_name": "Python 3"
    },
    "language_info": {
      "name": "python"
    }
  },
  "cells": [
    {
      "cell_type": "markdown",
      "metadata": {
        "id": "view-in-github",
        "colab_type": "text"
      },
      "source": [
        "<a href=\"https://colab.research.google.com/github/Lavishgangwani/Branching-Tutorial/blob/main/DSA.ipynb\" target=\"_parent\"><img src=\"https://colab.research.google.com/assets/colab-badge.svg\" alt=\"Open In Colab\"/></a>"
      ]
    },
    {
      "cell_type": "code",
      "execution_count": null,
      "metadata": {
        "colab": {
          "base_uri": "https://localhost:8080/"
        },
        "id": "4V_nYwVj0Jxj",
        "outputId": "bcbf84d1-f130-47ac-f1c2-a924ac3dac96"
      },
      "outputs": [
        {
          "output_type": "stream",
          "name": "stdout",
          "text": [
            "Hello\n"
          ]
        }
      ],
      "source": [
        "print(\"Hello\")"
      ]
    },
    {
      "cell_type": "code",
      "source": [
        "class Node:\n",
        "  def __init__(self, data):\n",
        "    self.data = data\n",
        "    self.next = None\n",
        "\n",
        "  def trasverse_linked_list(head):\n",
        "    current = head\n",
        "\n",
        "    while current is not None:\n",
        "      print(current.data)\n",
        "      current = current.next\n",
        "\n",
        "    print()\n",
        "\n",
        "  def searched_linked_list(head, target):\n",
        "    while head is not None:\n",
        "      if head.data == target:\n",
        "        return True\n",
        "      head = head.next\n",
        "\n",
        "    return False"
      ],
      "metadata": {
        "id": "YPSlqA110OW0"
      },
      "execution_count": null,
      "outputs": []
    },
    {
      "cell_type": "code",
      "source": [
        "data1 = Node(1)\n",
        "data2 = Node(2)\n",
        "data3 = Node(3)\n",
        "data4 = Node(4)\n",
        "\n",
        "data1.next = data2\n",
        "data2.next = data3\n",
        "data3.next = data4\n",
        "\n",
        "print(data1.data)\n",
        "print(data1.next.data)\n",
        "print(data1.next.next.data)\n",
        "print(data1.next.next.next.data)\n",
        "\n",
        "print(\"------------------------\")\n",
        "print(data1.trasverse_linked_list())\n",
        "\n",
        "print(\"------------------------\")\n",
        "print(data1.searched_linked_list(3))"
      ],
      "metadata": {
        "colab": {
          "base_uri": "https://localhost:8080/"
        },
        "id": "1u_NE7-V3Mee",
        "outputId": "bb4c045f-7861-416e-8d0f-12bb8b464cf4"
      },
      "execution_count": null,
      "outputs": [
        {
          "output_type": "stream",
          "name": "stdout",
          "text": [
            "1\n",
            "2\n",
            "3\n",
            "4\n",
            "------------------------\n",
            "1\n",
            "2\n",
            "3\n",
            "4\n",
            "\n",
            "None\n",
            "------------------------\n",
            "True\n"
          ]
        }
      ]
    },
    {
      "cell_type": "code",
      "source": [
        "print(linked_list.trasverse_linked_list())"
      ],
      "metadata": {
        "colab": {
          "base_uri": "https://localhost:8080/"
        },
        "id": "7vq93Qzr3UFP",
        "outputId": "9c740ac0-f112-4ac4-b1a7-6cfd7d39e7f8"
      },
      "execution_count": null,
      "outputs": [
        {
          "output_type": "stream",
          "name": "stdout",
          "text": [
            "[1, 2, 3, 4]\n",
            "\n",
            "None\n"
          ]
        }
      ]
    },
    {
      "cell_type": "code",
      "source": [
        "class Node1:\n",
        "  def __init__(self, data):\n",
        "    self.data = data\n",
        "    self.next = None\n",
        "\n",
        "a = Node1(2)\n",
        "b = Node1(3)\n",
        "c = Node1(4)\n",
        "\n",
        "\n",
        "print(a.data, b.data, c.data)\n",
        "\n",
        "a.next = b\n",
        "b.next = c\n",
        "\n",
        "print(a.next)\n",
        "print(b.next)\n",
        "print(c.next)"
      ],
      "metadata": {
        "colab": {
          "base_uri": "https://localhost:8080/"
        },
        "id": "9ZanGn1M3d47",
        "outputId": "98b73224-6152-40a8-d7fb-7254f6510ac2"
      },
      "execution_count": null,
      "outputs": [
        {
          "output_type": "stream",
          "name": "stdout",
          "text": [
            "2 3 4\n",
            "<__main__.Node1 object at 0x7e651f6959c0>\n",
            "<__main__.Node1 object at 0x7e651f6977c0>\n",
            "None\n"
          ]
        }
      ]
    },
    {
      "cell_type": "code",
      "source": [
        "import torch\n",
        "import torch.nn as nn\n",
        "import torch.optim as optim\n",
        "\n",
        "\n",
        "class SimpleNN(nn.Module):\n",
        "  def __init__(self):\n",
        "    super(SimpleNN, self).__init__()\n",
        "    self.fc = nn.Linear(2,1)\n",
        "\n",
        "  def forward(self, x):\n",
        "    return torch.sigmoid(self.fc(x))\n",
        "\n",
        "\n",
        "model = SimpleNN()\n",
        "criterion = nn.BCELoss()\n",
        "optimizer = optim.SGD(model.parameters(), lr=0.01)\n",
        "\n",
        "# Dummy data\n",
        "X = torch.tensor([[1.0, 2.0], [2.0, 3.0], [3.0, 4.0]])\n",
        "y = torch.tensor([[0.0], [1.0], [1.0]])\n",
        "\n",
        "\n",
        "for epoch in range(1000):\n",
        "  optimizer.zero_grad()\n",
        "  outputs = model(X)\n",
        "  loss = criterion(outputs, y)\n",
        "  loss.backward()\n",
        "  optimizer.step()\n",
        "\n",
        "print(\"Trained Weights:\", model.fc.weight)\n"
      ],
      "metadata": {
        "colab": {
          "base_uri": "https://localhost:8080/"
        },
        "id": "5D4Z1gFB6awD",
        "outputId": "2b610be7-350a-4e44-ff3b-d1bb836ebcef"
      },
      "execution_count": null,
      "outputs": [
        {
          "output_type": "stream",
          "name": "stdout",
          "text": [
            "Trained Weights: Parameter containing:\n",
            "tensor([[0.7176, 0.0120]], requires_grad=True)\n"
          ]
        }
      ]
    },
    {
      "cell_type": "code",
      "source": [
        "def bubble_sort(arr):\n",
        "    n = len(arr)\n",
        "    for i in range(n):\n",
        "        swapped = False\n",
        "        for j in range(0, n-i-1):  # Last i elements are already sorted\n",
        "            if arr[j] > arr[j+1]:\n",
        "                arr[j], arr[j+1] = arr[j+1], arr[j]\n",
        "                swapped = True\n",
        "        if not swapped:\n",
        "            break  # Break if no swaps were made, meaning the list is sorted\n",
        "    return arr\n",
        "\n",
        "# Example\n",
        "arr = [64, 34, 25, 12, 22, 11, 90]\n",
        "sorted_arr = bubble_sort(arr)\n",
        "print(\"Sorted array:\", sorted_arr)\n"
      ],
      "metadata": {
        "colab": {
          "base_uri": "https://localhost:8080/"
        },
        "id": "gYMTkCBAiZv_",
        "outputId": "1fd5a0eb-72af-404b-f0f7-8b6f14c236fd"
      },
      "execution_count": null,
      "outputs": [
        {
          "output_type": "stream",
          "name": "stdout",
          "text": [
            "Sorted array: [11, 12, 22, 25, 34, 64, 90]\n"
          ]
        }
      ]
    },
    {
      "cell_type": "code",
      "source": [
        "def merge_sort(arr):\n",
        "    if len(arr) <= 1:\n",
        "        return arr\n",
        "\n",
        "    # Divide the array\n",
        "    mid = len(arr) // 2\n",
        "    left = merge_sort(arr[:mid])\n",
        "    right = merge_sort(arr[mid:])\n",
        "\n",
        "    # Merge sorted halves\n",
        "    return merge(left, right)\n",
        "\n",
        "def merge(left, right):\n",
        "    merged = []\n",
        "    i = j = 0\n",
        "\n",
        "    # Merge while both halves have elements\n",
        "    while i < len(left) and j < len(right):\n",
        "        if left[i] < right[j]:\n",
        "            merged.append(left[i])\n",
        "            i += 1\n",
        "        else:\n",
        "            merged.append(right[j])\n",
        "            j += 1\n",
        "\n",
        "    # Append remaining elements\n",
        "    merged.extend(left[i:])\n",
        "    merged.extend(right[j:])\n",
        "    return merged\n",
        "\n",
        "# Example\n",
        "arr = [38, 27, 43, 3, 9, 82, 10]\n",
        "sorted_arr = merge_sort(arr)\n",
        "print(\"Sorted array:\", sorted_arr)\n"
      ],
      "metadata": {
        "colab": {
          "base_uri": "https://localhost:8080/"
        },
        "id": "BR7LEjsFjxi1",
        "outputId": "c9b265a0-cba5-43fd-d353-4468262191e6"
      },
      "execution_count": null,
      "outputs": [
        {
          "output_type": "stream",
          "name": "stdout",
          "text": [
            "Sorted array: [3, 9, 10, 27, 38, 43, 82]\n"
          ]
        }
      ]
    },
    {
      "cell_type": "code",
      "source": [],
      "metadata": {
        "id": "NZ31AuOnnpoM"
      },
      "execution_count": null,
      "outputs": []
    }
  ]
}